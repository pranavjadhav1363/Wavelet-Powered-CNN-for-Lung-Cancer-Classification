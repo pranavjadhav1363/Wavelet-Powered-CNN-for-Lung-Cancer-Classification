{
 "cells": [
  {
   "cell_type": "code",
   "execution_count": 1,
   "metadata": {},
   "outputs": [],
   "source": [
    "import cv2\n",
    "import os"
   ]
  },
  {
   "cell_type": "code",
   "execution_count": 2,
   "metadata": {},
   "outputs": [
    {
     "name": "stdout",
     "output_type": "stream",
     "text": [
      "Resizing completed!\n"
     ]
    }
   ],
   "source": [
    "input_folder = '../DATA_PROCESSED/256x256_Guas/Benign'\n",
    "output_folder = '../DATA_PROCESSED/64x64/Benign'\n",
    "\n",
    "os.makedirs(output_folder, exist_ok=True)\n",
    "\n",
    "for filename in os.listdir(input_folder):\n",
    "    \n",
    "    if filename.endswith(('.jpg', '.jpeg', '.png', '.bmp')):\n",
    "        image_path = os.path.join(input_folder, filename)\n",
    "        image = cv2.imread(image_path)\n",
    "        resized_image = cv2.resize(\n",
    "            image, (64, 64), interpolation=cv2.INTER_LINEAR)\n",
    "        output_path = os.path.join(output_folder, f'{filename}')\n",
    "        cv2.imwrite(output_path, resized_image)\n",
    "\n",
    "print(\"Resizing completed!\")"
   ]
  },
  {
   "cell_type": "code",
   "execution_count": 3,
   "metadata": {},
   "outputs": [
    {
     "name": "stdout",
     "output_type": "stream",
     "text": [
      "Resizing completed!\n"
     ]
    }
   ],
   "source": [
    "input_folder = '../DATA_PROCESSED/256x256_Guas/Normal'\n",
    "output_folder = '../DATA_PROCESSED/64x64/Normal'\n",
    "\n",
    "os.makedirs(output_folder, exist_ok=True)\n",
    "for filename in os.listdir(input_folder):\n",
    "    \n",
    "    if filename.endswith(('.jpg', '.jpeg', '.png', '.bmp')):\n",
    "        # Construct the full file path\n",
    "        image_path = os.path.join(input_folder, filename)\n",
    "        image = cv2.imread(image_path)\n",
    "        resized_image = cv2.resize(\n",
    "            image, (64, 64), interpolation=cv2.INTER_LINEAR)\n",
    "        output_path = os.path.join(output_folder, f'{filename}')\n",
    "        cv2.imwrite(output_path, resized_image)\n",
    "\n",
    "print(\"Resizing completed!\")"
   ]
  },
  {
   "cell_type": "code",
   "execution_count": 4,
   "metadata": {},
   "outputs": [
    {
     "name": "stdout",
     "output_type": "stream",
     "text": [
      "Resizing completed!\n"
     ]
    }
   ],
   "source": [
    "input_folder = '../DATA_PROCESSED/256x256_Guas/Malignant'\n",
    "output_folder = '../DATA_PROCESSED/64x64/Malignant'\n",
    "\n",
    "os.makedirs(output_folder, exist_ok=True)\n",
    "\n",
    "for filename in os.listdir(input_folder):\n",
    " \n",
    "    if filename.endswith(('.jpg', '.jpeg', '.png', '.bmp')):\n",
    "        image_path = os.path.join(input_folder, filename)\n",
    "        image = cv2.imread(image_path)\n",
    "\n",
    "        resized_image = cv2.resize(\n",
    "            image, (64, 64), interpolation=cv2.INTER_LINEAR)\n",
    "        output_path = os.path.join(output_folder, f'{filename}')\n",
    "\n",
    "        cv2.imwrite(output_path, resized_image)\n",
    "\n",
    "print(\"Resizing completed!\")"
   ]
  }
 ],
 "metadata": {
  "kernelspec": {
   "display_name": "Python 3",
   "language": "python",
   "name": "python3"
  },
  "language_info": {
   "codemirror_mode": {
    "name": "ipython",
    "version": 3
   },
   "file_extension": ".py",
   "mimetype": "text/x-python",
   "name": "python",
   "nbconvert_exporter": "python",
   "pygments_lexer": "ipython3",
   "version": "3.10.2"
  }
 },
 "nbformat": 4,
 "nbformat_minor": 2
}
